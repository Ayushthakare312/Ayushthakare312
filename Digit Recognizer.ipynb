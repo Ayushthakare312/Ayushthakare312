{
 "cells": [
  {
   "cell_type": "code",
   "execution_count": 1,
   "id": "9a47defc",
   "metadata": {},
   "outputs": [],
   "source": [
    "import numpy as np\n",
    "import pandas as pd\n",
    "from matplotlib import pyplot as plt\n",
    "\n",
    "data = pd.read_csv('train.csv')"
   ]
  },
  {
   "cell_type": "code",
   "execution_count": 2,
   "id": "50d5031a",
   "metadata": {},
   "outputs": [],
   "source": [
    "data = np.array(data)\n",
    "m, n = data.shape\n",
    "np.random.shuffle(data) # shuffle before splitting into dev and training sets\n",
    "\n",
    "data_dev = data[0:1000].T\n",
    "Y_dev = data_dev[0]\n",
    "X_dev = data_dev[1:n]\n",
    "X_dev = X_dev / 255.\n",
    "\n",
    "data_train = data[1000:m].T\n",
    "Y_train = data_train[0]\n",
    "X_train = data_train[1:n]\n",
    "X_train = X_train / 255.\n",
    "_,m_train = X_train.shape"
   ]
  },
  {
   "cell_type": "code",
   "execution_count": 3,
   "id": "deb712ae",
   "metadata": {},
   "outputs": [
    {
     "data": {
      "text/plain": [
       "array([7, 7, 8, ..., 6, 7, 3], dtype=int64)"
      ]
     },
     "execution_count": 3,
     "metadata": {},
     "output_type": "execute_result"
    }
   ],
   "source": [
    "Y_train"
   ]
  },
  {
   "cell_type": "code",
   "execution_count": 4,
   "id": "a18b53a9",
   "metadata": {},
   "outputs": [],
   "source": [
    "def init_params():\n",
    "    W1 = np.random.rand(10, 784) - 0.5\n",
    "    b1 = np.random.rand(10, 1) - 0.5\n",
    "    W2 = np.random.rand(10, 10) - 0.5\n",
    "    b2 = np.random.rand(10, 1) - 0.5\n",
    "    return W1, b1, W2, b2\n",
    "\n",
    "def ReLU(Z):\n",
    "    return np.maximum(Z, 0)\n",
    "\n",
    "def softmax(Z):\n",
    "    A = np.exp(Z) / sum(np.exp(Z))\n",
    "    return A\n",
    "    \n",
    "def forward_prop(W1, b1, W2, b2, X):\n",
    "    Z1 = W1.dot(X) + b1\n",
    "    A1 = ReLU(Z1)\n",
    "    Z2 = W2.dot(A1) + b2\n",
    "    A2 = softmax(Z2)\n",
    "    return Z1, A1, Z2, A2\n",
    "\n",
    "def ReLU_deriv(Z):\n",
    "    return Z > 0\n",
    "\n",
    "def one_hot(Y):\n",
    "    one_hot_Y = np.zeros((Y.size, Y.max() + 1))\n",
    "    one_hot_Y[np.arange(Y.size), Y] = 1\n",
    "    one_hot_Y = one_hot_Y.T\n",
    "    return one_hot_Y\n",
    "\n",
    "def backward_prop(Z1, A1, Z2, A2, W1, W2, X, Y):\n",
    "    one_hot_Y = one_hot(Y)\n",
    "    dZ2 = A2 - one_hot_Y\n",
    "    dW2 = 1 / m * dZ2.dot(A1.T)\n",
    "    db2 = 1 / m * np.sum(dZ2)\n",
    "    dZ1 = W2.T.dot(dZ2) * ReLU_deriv(Z1)\n",
    "    dW1 = 1 / m * dZ1.dot(X.T)\n",
    "    db1 = 1 / m * np.sum(dZ1)\n",
    "    return dW1, db1, dW2, db2\n",
    "\n",
    "def update_params(W1, b1, W2, b2, dW1, db1, dW2, db2, alpha):\n",
    "    W1 = W1 - alpha * dW1\n",
    "    b1 = b1 - alpha * db1    \n",
    "    W2 = W2 - alpha * dW2  \n",
    "    b2 = b2 - alpha * db2    \n",
    "    return W1, b1, W2, b2"
   ]
  },
  {
   "cell_type": "code",
   "execution_count": 5,
   "id": "6ff05e13",
   "metadata": {},
   "outputs": [],
   "source": [
    "def get_predictions(A2):\n",
    "    return np.argmax(A2, 0)\n",
    "\n",
    "def get_accuracy(predictions, Y):\n",
    "    print(predictions, Y)\n",
    "    return np.sum(predictions == Y) / Y.size\n",
    "\n",
    "def gradient_descent(X, Y, alpha, iterations):\n",
    "    W1, b1, W2, b2 = init_params()\n",
    "    for i in range(iterations):\n",
    "        Z1, A1, Z2, A2 = forward_prop(W1, b1, W2, b2, X)\n",
    "        dW1, db1, dW2, db2 = backward_prop(Z1, A1, Z2, A2, W1, W2, X, Y)\n",
    "        W1, b1, W2, b2 = update_params(W1, b1, W2, b2, dW1, db1, dW2, db2, alpha)\n",
    "        if i % 10 == 0:\n",
    "            print(\"Iteration: \", i)\n",
    "            predictions = get_predictions(A2)\n",
    "            print(get_accuracy(predictions, Y))\n",
    "    return W1, b1, W2, b2"
   ]
  },
  {
   "cell_type": "code",
   "execution_count": 6,
   "id": "7525dc34",
   "metadata": {},
   "outputs": [
    {
     "name": "stdout",
     "output_type": "stream",
     "text": [
      "Iteration:  0\n",
      "[6 6 5 ... 5 1 6] [7 7 8 ... 6 7 3]\n",
      "0.14665853658536585\n",
      "Iteration:  10\n",
      "[0 4 3 ... 4 3 8] [7 7 8 ... 6 7 3]\n",
      "0.2243170731707317\n",
      "Iteration:  20\n",
      "[0 4 8 ... 4 1 8] [7 7 8 ... 6 7 3]\n",
      "0.30129268292682926\n",
      "Iteration:  30\n",
      "[0 4 8 ... 4 1 8] [7 7 8 ... 6 7 3]\n",
      "0.3681951219512195\n",
      "Iteration:  40\n",
      "[0 4 8 ... 4 1 8] [7 7 8 ... 6 7 3]\n",
      "0.427\n",
      "Iteration:  50\n",
      "[0 4 8 ... 4 1 8] [7 7 8 ... 6 7 3]\n",
      "0.4859512195121951\n",
      "Iteration:  60\n",
      "[7 4 8 ... 6 1 8] [7 7 8 ... 6 7 3]\n",
      "0.5367804878048781\n",
      "Iteration:  70\n",
      "[7 4 8 ... 6 1 8] [7 7 8 ... 6 7 3]\n",
      "0.5790487804878048\n",
      "Iteration:  80\n",
      "[7 4 8 ... 6 1 8] [7 7 8 ... 6 7 3]\n",
      "0.6123658536585366\n",
      "Iteration:  90\n",
      "[7 4 8 ... 6 1 8] [7 7 8 ... 6 7 3]\n",
      "0.641609756097561\n",
      "Iteration:  100\n",
      "[7 7 8 ... 6 1 8] [7 7 8 ... 6 7 3]\n",
      "0.6665609756097561\n",
      "Iteration:  110\n",
      "[7 7 8 ... 6 1 8] [7 7 8 ... 6 7 3]\n",
      "0.686609756097561\n",
      "Iteration:  120\n",
      "[7 7 8 ... 6 1 8] [7 7 8 ... 6 7 3]\n",
      "0.7008780487804878\n",
      "Iteration:  130\n",
      "[7 7 8 ... 6 1 8] [7 7 8 ... 6 7 3]\n",
      "0.7165121951219512\n",
      "Iteration:  140\n",
      "[7 7 8 ... 6 1 8] [7 7 8 ... 6 7 3]\n",
      "0.7282439024390244\n",
      "Iteration:  150\n",
      "[7 7 8 ... 6 1 8] [7 7 8 ... 6 7 3]\n",
      "0.7384146341463415\n",
      "Iteration:  160\n",
      "[7 7 8 ... 6 1 8] [7 7 8 ... 6 7 3]\n",
      "0.7474878048780488\n",
      "Iteration:  170\n",
      "[7 7 8 ... 6 1 8] [7 7 8 ... 6 7 3]\n",
      "0.7545853658536585\n",
      "Iteration:  180\n",
      "[7 7 8 ... 6 1 8] [7 7 8 ... 6 7 3]\n",
      "0.7613658536585366\n",
      "Iteration:  190\n",
      "[7 7 8 ... 6 1 8] [7 7 8 ... 6 7 3]\n",
      "0.768\n",
      "Iteration:  200\n",
      "[7 7 8 ... 6 1 8] [7 7 8 ... 6 7 3]\n",
      "0.7748780487804878\n",
      "Iteration:  210\n",
      "[7 7 8 ... 6 1 8] [7 7 8 ... 6 7 3]\n",
      "0.7806341463414634\n",
      "Iteration:  220\n",
      "[7 7 8 ... 6 1 8] [7 7 8 ... 6 7 3]\n",
      "0.7856341463414634\n",
      "Iteration:  230\n",
      "[7 7 8 ... 6 1 8] [7 7 8 ... 6 7 3]\n",
      "0.7900487804878049\n",
      "Iteration:  240\n",
      "[7 7 8 ... 6 1 8] [7 7 8 ... 6 7 3]\n",
      "0.7948048780487805\n",
      "Iteration:  250\n",
      "[7 7 8 ... 6 1 8] [7 7 8 ... 6 7 3]\n",
      "0.798829268292683\n",
      "Iteration:  260\n",
      "[7 7 8 ... 6 1 8] [7 7 8 ... 6 7 3]\n",
      "0.8025609756097561\n",
      "Iteration:  270\n",
      "[7 7 8 ... 6 1 8] [7 7 8 ... 6 7 3]\n",
      "0.8066585365853659\n",
      "Iteration:  280\n",
      "[7 7 8 ... 6 1 8] [7 7 8 ... 6 7 3]\n",
      "0.8099512195121952\n",
      "Iteration:  290\n",
      "[7 7 8 ... 6 1 8] [7 7 8 ... 6 7 3]\n",
      "0.8141951219512195\n",
      "Iteration:  300\n",
      "[7 7 8 ... 6 2 8] [7 7 8 ... 6 7 3]\n",
      "0.8178048780487804\n",
      "Iteration:  310\n",
      "[7 7 8 ... 6 2 8] [7 7 8 ... 6 7 3]\n",
      "0.8209024390243902\n",
      "Iteration:  320\n",
      "[7 7 8 ... 6 2 8] [7 7 8 ... 6 7 3]\n",
      "0.8239024390243902\n",
      "Iteration:  330\n",
      "[7 7 8 ... 6 2 8] [7 7 8 ... 6 7 3]\n",
      "0.8267317073170731\n",
      "Iteration:  340\n",
      "[7 7 8 ... 6 2 8] [7 7 8 ... 6 7 3]\n",
      "0.8293414634146341\n",
      "Iteration:  350\n",
      "[7 7 8 ... 6 2 8] [7 7 8 ... 6 7 3]\n",
      "0.8316097560975609\n",
      "Iteration:  360\n",
      "[7 7 8 ... 6 2 8] [7 7 8 ... 6 7 3]\n",
      "0.8338780487804878\n",
      "Iteration:  370\n",
      "[7 7 8 ... 6 2 8] [7 7 8 ... 6 7 3]\n",
      "0.8356829268292683\n",
      "Iteration:  380\n",
      "[7 7 8 ... 6 2 3] [7 7 8 ... 6 7 3]\n",
      "0.8378780487804878\n",
      "Iteration:  390\n",
      "[7 7 8 ... 6 2 3] [7 7 8 ... 6 7 3]\n",
      "0.8396585365853658\n",
      "Iteration:  400\n",
      "[7 7 8 ... 6 2 3] [7 7 8 ... 6 7 3]\n",
      "0.8415121951219512\n",
      "Iteration:  410\n",
      "[7 7 8 ... 6 2 3] [7 7 8 ... 6 7 3]\n",
      "0.8432439024390244\n",
      "Iteration:  420\n",
      "[7 7 8 ... 6 2 3] [7 7 8 ... 6 7 3]\n",
      "0.8443414634146341\n",
      "Iteration:  430\n",
      "[7 7 8 ... 6 2 3] [7 7 8 ... 6 7 3]\n",
      "0.8459268292682927\n",
      "Iteration:  440\n",
      "[7 7 8 ... 6 2 3] [7 7 8 ... 6 7 3]\n",
      "0.8475121951219512\n",
      "Iteration:  450\n",
      "[7 7 8 ... 6 2 3] [7 7 8 ... 6 7 3]\n",
      "0.8492439024390244\n",
      "Iteration:  460\n",
      "[7 7 8 ... 6 2 3] [7 7 8 ... 6 7 3]\n",
      "0.8503658536585366\n",
      "Iteration:  470\n",
      "[7 7 8 ... 6 2 3] [7 7 8 ... 6 7 3]\n",
      "0.8514390243902439\n",
      "Iteration:  480\n",
      "[7 7 8 ... 6 2 3] [7 7 8 ... 6 7 3]\n",
      "0.8526585365853658\n",
      "Iteration:  490\n",
      "[7 7 8 ... 6 2 3] [7 7 8 ... 6 7 3]\n",
      "0.8535365853658536\n"
     ]
    }
   ],
   "source": [
    "W1, b1, W2, b2 = gradient_descent(X_train, Y_train, 0.10, 500)"
   ]
  },
  {
   "cell_type": "code",
   "execution_count": 11,
   "id": "efaf68a4",
   "metadata": {},
   "outputs": [],
   "source": [
    "def make_predictions(X, W1, b1, W2, b2):\n",
    "    _, _, _, A2 = forward_prop(W1, b1, W2, b2, X)\n",
    "    predictions = get_predictions(A2)\n",
    "    return predictions\n",
    "\n",
    "def test_prediction(index, W1, b1, W2, b2):\n",
    "    current_image = X_train[:, index, None]\n",
    "    prediction = make_predictions(X_train[:, index, None], W1, b1, W2, b2)\n",
    "    label = Y_train[index]\n",
    "    print(\"Prediction: \", prediction)\n",
    "    print(\"Label: \", label)\n",
    "    \n",
    "    current_image = current_image.reshape((28, 28)) * 255\n",
    "    plt.gray()\n",
    "    plt.imshow(current_image, interpolation='nearest')\n",
    "    plt.show()"
   ]
  },
  {
   "cell_type": "code",
   "execution_count": 12,
   "id": "8d2c919d",
   "metadata": {},
   "outputs": [
    {
     "name": "stdout",
     "output_type": "stream",
     "text": [
      "Prediction:  [7]\n",
      "Label:  7\n"
     ]
    },
    {
     "data": {
      "image/png": "[encoded data removed]",
      "text/plain": [
       "<Figure size 640x480 with 1 Axes>"
      ]
     },
     "metadata": {},
     "output_type": "display_data"
    },
    {
     "name": "stdout",
     "output_type": "stream",
     "text": [
      "Prediction:  [7]\n",
      "Label:  7\n"
     ]
    },
    {
     "data": {
      "image/png": "[encoded data removed]",
      "text/plain": [
       "<Figure size 640x480 with 1 Axes>"
      ]
     },
     "metadata": {},
     "output_type": "display_data"
    },
    {
     "name": "stdout",
     "output_type": "stream",
     "text": [
      "Prediction:  [8]\n",
      "Label:  8\n"
     ]
    },
    {
     "data": {
      "image/png": "[encoded data removed]",
      "text/plain": [
       "<Figure size 640x480 with 1 Axes>"
      ]
     },
     "metadata": {},
     "output_type": "display_data"
    },
    {
     "name": "stdout",
     "output_type": "stream",
     "text": [
      "Prediction:  [0]\n",
      "Label:  0\n"
     ]
    },
    {
     "data": {
      "image/png": "[encoded data removed]",
      "text/plain": [
       "<Figure size 640x480 with 1 Axes>"
      ]
     },
     "metadata": {},
     "output_type": "display_data"
    }
   ],
   "source": [
    "test_prediction(0, W1, b1, W2, b2)\n",
    "test_prediction(1, W1, b1, W2, b2)\n",
    "test_prediction(2, W1, b1, W2, b2)\n",
    "test_prediction(3, W1, b1, W2, b2)"
   ]
  },
  {
   "cell_type": "code",
   "execution_count": null,
   "id": "4c6a78c5",
   "metadata": {},
   "outputs": [],
   "source": []
  },
  {
   "cell_type": "code",
   "execution_count": null,
   "id": "1a07459a",
   "metadata": {},
   "outputs": [],
   "source": []
  },
  {
   "cell_type": "code",
   "execution_count": null,
   "id": "7ccd577d",
   "metadata": {},
   "outputs": [],
   "source": []
  }
 ],
 "metadata": {
  "kernelspec": {
   "display_name": "Python 3 (ipykernel)",
   "language": "python",
   "name": "python3"
  },
  "language_info": {
   "codemirror_mode": {
    "name": "ipython",
    "version": 3
   },
   "file_extension": ".py",
   "mimetype": "text/x-python",
   "name": "python",
   "nbconvert_exporter": "python",
   "pygments_lexer": "ipython3",
   "version": "3.11.5"
  }
 },
 "nbformat": 4,
 "nbformat_minor": 5
}
